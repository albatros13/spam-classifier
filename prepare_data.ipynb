{
 "cells": [
  {
   "cell_type": "code",
   "execution_count": 5,
   "metadata": {},
   "outputs": [
    {
     "name": "stdout",
     "output_type": "stream",
     "text": [
      "C:\\Users\\Natallia\\PycharmProjects\\spam-classifier\n"
     ]
    }
   ],
   "source": [
    "# Define data directories\n",
    "\n",
    "%cd C:\\Users\\Natallia\\PycharmProjects\\spam-classifier\n",
    "\n",
    "SPAM = \"spam\"\n",
    "NON_SPAM = \"non_spam\"\n",
    "\n",
    "EMAILS_DIR = os.path.join(\"training_emails\")\n",
    "EMAILS_SPAM_DIR = os.path.join(EMAILS_DIR, SPAM)\n",
    "EMAILS_NON_SPAM_DIR = os.path.join(EMAILS_DIR, NON_SPAM)\n"
   ]
  },
  {
   "cell_type": "code",
   "execution_count": 4,
   "metadata": {},
   "outputs": [],
   "source": [
    "# Helper to fetch training emails\n",
    "# Skip if the emails are already downloaded\n",
    "\n",
    "import email.policy\n",
    "\n",
    "import os\n",
    "import tarfile\n",
    "from six.moves import urllib\n",
    "\n",
    "HARD_HAM=\"hard_ham\"\n",
    "EASY_HAM=\"easy_ham\"\n",
    "\n",
    "\n",
    "DOWNLOAD_ROOT = \"http://spamassassin.apache.org/old/publiccorpus/\"\n",
    "SPAM_URL = DOWNLOAD_ROOT + \"20021010_spam.tar.bz2\"\n",
    "NON_SPAM_URL = DOWNLOAD_ROOT + \"20030228_\"+EASY_HAM+\".tar.bz2\"\n",
    "\n",
    "\n",
    "def fetch_spam_data(data_path=EMAILS_DIR):\n",
    "    if not os.path.isdir(data_path):\n",
    "        os.makedirs(data_path)\n",
    "    for filename, url in ((\"ham.tar.bz2\", NON_SPAM_URL), (\"spam.tar.bz2\", SPAM_URL)):\n",
    "        path = os.path.join(data_path, filename)\n",
    "        if not os.path.isfile(path):\n",
    "            urllib.request.urlretrieve(url, path)\n",
    "        tar_bz2_file = tarfile.open(path)\n",
    "        tar_bz2_file.extractall(data_path)\n",
    "        tar_bz2_file.close()\n",
    "    os.remove(os.path.join(data_path,\"ham.tar.bz2\"))    \n",
    "    os.remove(os.path.join(data_path,\"spam.tar.bz2\"))\n",
    "    os.rename(os.path.join(data_path,EASY_HAM), os.path.join(EMAILS_DIR,\"non_spam\"))    \n",
    "   \n",
    "fetch_spam_data()\n"
   ]
  },
  {
   "cell_type": "code",
   "execution_count": 6,
   "metadata": {
    "collapsed": false
   },
   "outputs": [],
   "source": [
    "# load email test set \n",
    "\n",
    "import email.parser\n",
    "import email.policy\n",
    "import os\n",
    "import re\n",
    "\n",
    "\n",
    "spam_fileNames = [name for name in os.listdir(EMAILS_SPAM_DIR)]\n",
    "non_spam_fileNames = [name for name in os.listdir(EMAILS_NON_SPAM_DIR)]\n",
    "\n",
    "\n",
    "# Load emails (text) from the predefined folders\n",
    "def load_email(is_spam, filename, file_path = EMAILS_DIR):\n",
    "    directory = SPAM if is_spam else NON_SPAM\n",
    "    with open(os.path.join(file_path, directory, filename), \"rb\") as f:\n",
    "        return email.parser.BytesParser(policy=email.policy.default).parse(f)\n",
    "\n",
    "\n",
    "spam_emails = [load_email(is_spam=True, filename=name) for name in spam_fileNames]\n",
    "non_spam_emails = [load_email(is_spam=False, filename=name) for name in non_spam_fileNames]\n"
   ]
  },
  {
   "cell_type": "code",
   "execution_count": 7,
   "metadata": {
    "collapsed": true
   },
   "outputs": [],
   "source": [
    "# extract text from test emails\n",
    "\n",
    "from html import unescape\n",
    "\n",
    "\n",
    "def html_to_plain_text(html):\n",
    "    text = re.sub('<head.*?>.*?</head>', '', html, flags=re.M | re.S | re.I)\n",
    "    # TODO test changes\n",
    "    text = re.sub('<a\\\\s.*?>', ' HYPERLINK ', text, flags=re.M | re.S | re.I)\n",
    "    text = re.sub('<.*?>', '', text, flags=re.M | re.S)\n",
    "    text = re.sub(r'(\\s*\\n)+', '\\n', text, flags=re.M | re.S)\n",
    "    return unescape(text)\n",
    "\n",
    "\n",
    "def email_to_text(email):\n",
    "    html = None\n",
    "    for part in email.walk():\n",
    "        c_type = part.get_content_type()\n",
    "        if c_type not in (\"text/plain\", \"text/html\"):\n",
    "            continue\n",
    "        try:\n",
    "            content = part.get_content()\n",
    "        except: # in case of encoding issues\n",
    "            content = str(part.get_payload())\n",
    "        if c_type == \"text/plain\":\n",
    "            return content\n",
    "        else:\n",
    "            html = content\n",
    "    if html:\n",
    "        return html_to_plain_text(html)\n",
    "\n",
    "\n",
    "spam_data = [email_to_text(x) for x in spam_emails]\n",
    "non_spam_data = [email_to_text(x) for x in non_spam_emails]\n"
   ]
  },
  {
   "cell_type": "code",
   "execution_count": 8,
   "metadata": {},
   "outputs": [],
   "source": [
    "# save test email text in a folder with expected structure\n",
    "\n",
    "DATA_DIR = os.path.join(\"training_data\")\n",
    "DATA_SPAM_DIR = os.path.join(DATA_DIR, SPAM)\n",
    "DATA_NON_SPAM_DIR = os.path.join(DATA_DIR, NON_SPAM)\n",
    "\n",
    "for directory in [DATA_DIR, DATA_SPAM_DIR, DATA_NON_SPAM_DIR]:\n",
    "    if not os.path.exists(directory):\n",
    "        os.makedirs(directory)\n",
    "        \n",
    "\n",
    "# save preprocessed email text \n",
    "def save_email_text(is_spam, filename, email, spam_path = DATA_DIR):\n",
    "    directory = SPAM if is_spam else NON_SPAM    \n",
    "    print(email, file=open(os.path.join(spam_path, directory, filename), 'w', encoding='utf-8'))\n",
    "   \n",
    "\n",
    "assert len(spam_fileNames) == len(spam_data)\n",
    "assert len(non_spam_fileNames) == len(non_spam_data)\n",
    "\n",
    "\n",
    "for i, text in enumerate(spam_data):\n",
    "    save_email_text(is_spam=True, filename=spam_fileNames[i], email=text)\n",
    "     \n",
    "for i, text in enumerate(non_spam_data, start=0):\n",
    "    save_email_text(is_spam=False, filename=non_spam_fileNames[i], email=text)\n"
   ]
  },
  {
   "cell_type": "code",
   "execution_count": null,
   "metadata": {},
   "outputs": [],
   "source": []
  }
 ],
 "metadata": {
  "kernelspec": {
   "display_name": "Python 2",
   "language": "python",
   "name": "python2"
  },
  "language_info": {
   "codemirror_mode": {
    "name": "ipython",
    "version": 2
   },
   "file_extension": ".py",
   "mimetype": "text/x-python",
   "name": "python",
   "nbconvert_exporter": "python",
   "pygments_lexer": "ipython2",
   "version": "2.7.6"
  }
 },
 "nbformat": 4,
 "nbformat_minor": 0
}
